{
 "cells": [
  {
   "cell_type": "code",
   "execution_count": 8,
   "metadata": {},
   "outputs": [],
   "source": [
    "import numpy as np\n",
    "import pandas as pd"
   ]
  },
  {
   "cell_type": "code",
   "execution_count": 9,
   "metadata": {},
   "outputs": [],
   "source": [
    "\n",
    "train = pd.read_csv('Desktop/emoji.csv',header=None)\n",
    "test = pd.read_csv('Desktop/emoji_test.csv',header=None)"
   ]
  },
  {
   "cell_type": "code",
   "execution_count": 42,
   "metadata": {},
   "outputs": [
    {
     "data": {
      "text/html": [
       "<div>\n",
       "<style scoped>\n",
       "    .dataframe tbody tr th:only-of-type {\n",
       "        vertical-align: middle;\n",
       "    }\n",
       "\n",
       "    .dataframe tbody tr th {\n",
       "        vertical-align: top;\n",
       "    }\n",
       "\n",
       "    .dataframe thead th {\n",
       "        text-align: right;\n",
       "    }\n",
       "</style>\n",
       "<table border=\"1\" class=\"dataframe\">\n",
       "  <thead>\n",
       "    <tr style=\"text-align: right;\">\n",
       "      <th></th>\n",
       "      <th>0</th>\n",
       "      <th>1</th>\n",
       "      <th>2</th>\n",
       "      <th>3</th>\n",
       "    </tr>\n",
       "  </thead>\n",
       "  <tbody>\n",
       "    <tr>\n",
       "      <th>0</th>\n",
       "      <td>[never, talk, to, me, again]</td>\n",
       "      <td>3</td>\n",
       "      <td>NaN</td>\n",
       "      <td>NaN</td>\n",
       "    </tr>\n",
       "    <tr>\n",
       "      <th>1</th>\n",
       "      <td>[I, am, proud, of, your, achievements]</td>\n",
       "      <td>2</td>\n",
       "      <td>NaN</td>\n",
       "      <td>NaN</td>\n",
       "    </tr>\n",
       "    <tr>\n",
       "      <th>2</th>\n",
       "      <td>[It, is, the, worst, day, in, my, life]</td>\n",
       "      <td>3</td>\n",
       "      <td>NaN</td>\n",
       "      <td>NaN</td>\n",
       "    </tr>\n",
       "    <tr>\n",
       "      <th>3</th>\n",
       "      <td>[Miss, you, so, much]</td>\n",
       "      <td>0</td>\n",
       "      <td>NaN</td>\n",
       "      <td>[0]</td>\n",
       "    </tr>\n",
       "    <tr>\n",
       "      <th>4</th>\n",
       "      <td>[food, is, life]</td>\n",
       "      <td>4</td>\n",
       "      <td>NaN</td>\n",
       "      <td>NaN</td>\n",
       "    </tr>\n",
       "  </tbody>\n",
       "</table>\n",
       "</div>"
      ],
      "text/plain": [
       "                                         0  1   2     3\n",
       "0             [never, talk, to, me, again]  3 NaN   NaN\n",
       "1   [I, am, proud, of, your, achievements]  2 NaN   NaN\n",
       "2  [It, is, the, worst, day, in, my, life]  3 NaN   NaN\n",
       "3                    [Miss, you, so, much]  0 NaN   [0]\n",
       "4                         [food, is, life]  4 NaN   NaN"
      ]
     },
     "execution_count": 42,
     "metadata": {},
     "output_type": "execute_result"
    }
   ],
   "source": [
    "train.head()"
   ]
  },
  {
   "cell_type": "code",
   "execution_count": 15,
   "metadata": {},
   "outputs": [],
   "source": [
    "import emoji as emoji"
   ]
  },
  {
   "cell_type": "code",
   "execution_count": 16,
   "metadata": {},
   "outputs": [],
   "source": [
    "\n",
    "emoji_dictionary = {\"0\": \"\\u2764\\uFE0F\",    # :heart: prints a black instead of red heart depending on the font\n",
    "                    \"1\": \":baseball:\",\n",
    "                    \"2\": \":beaming_face_with_smiling_eyes:\",\n",
    "                    \"3\": \":downcast_face_with_sweat:\",\n",
    "                    \"4\": \":fork_and_knife:\",\n",
    "                   }"
   ]
  },
  {
   "cell_type": "code",
   "execution_count": 17,
   "metadata": {},
   "outputs": [
    {
     "data": {
      "text/plain": [
       "'🍴'"
      ]
     },
     "execution_count": 17,
     "metadata": {},
     "output_type": "execute_result"
    }
   ],
   "source": [
    "emoji.emojize(\":fork_and_knife:\")"
   ]
  },
  {
   "cell_type": "code",
   "execution_count": 18,
   "metadata": {},
   "outputs": [
    {
     "name": "stdout",
     "output_type": "stream",
     "text": [
      "❤️\n",
      "⚾\n",
      "😁\n",
      "😓\n",
      "🍴\n"
     ]
    }
   ],
   "source": [
    "\n",
    "for e in emoji_dictionary.values():\n",
    "    print(emoji.emojize(e))"
   ]
  },
  {
   "cell_type": "code",
   "execution_count": 22,
   "metadata": {},
   "outputs": [
    {
     "name": "stdout",
     "output_type": "stream",
     "text": [
      "never talk to me again 😓\n",
      "I am proud of your achievements 😁\n",
      "It is the worst day in my life 😓\n",
      "Miss you so much ❤️\n",
      "food is life 🍴\n",
      "I love you mum ❤️\n",
      "Stop saying bullshit 😓\n",
      "congratulations on your acceptance 😁\n",
      "The assignment is too long  😓\n",
      "I want to go play ⚾\n"
     ]
    }
   ],
   "source": [
    "data = train.values\n",
    "for i in range(10):\n",
    "    print(data[i][0],emoji.emojize(emoji_dictionary[str(data[i][1])]))"
   ]
  },
  {
   "cell_type": "code",
   "execution_count": 23,
   "metadata": {},
   "outputs": [],
   "source": [
    "from keras.utils import to_categorical"
   ]
  },
  {
   "cell_type": "code",
   "execution_count": 24,
   "metadata": {},
   "outputs": [
    {
     "name": "stdout",
     "output_type": "stream",
     "text": [
      "(132,)\n",
      "(56,)\n",
      "(132, 5)\n",
      "(56, 5)\n"
     ]
    }
   ],
   "source": [
    "XT = train[0]\n",
    "Xt = test[0]\n",
    "\n",
    "YT = to_categorical(train[1])\n",
    "Yt = to_categorical(test[1])\n",
    "\n",
    "\n",
    "print(XT.shape)\n",
    "print(Xt.shape)\n",
    "print(YT.shape)\n",
    "print(Yt.shape)"
   ]
  },
  {
   "cell_type": "code",
   "execution_count": 44,
   "metadata": {},
   "outputs": [],
   "source": [
    "embeddings = {}\n",
    "with open('Documents/glove.6B.50d.txt',encoding='utf-8') as f:\n",
    "    for line in f:\n",
    "        values = line.split()\n",
    "        word = values[0]\n",
    "        coeffs = np.asarray(values[1:],dtype='float32')\n",
    "        \n",
    "        #print(word)\n",
    "        #print(coeffs)\n",
    "        embeddings[word] = coeffs"
   ]
  },
  {
   "cell_type": "code",
   "execution_count": 46,
   "metadata": {},
   "outputs": [
    {
     "data": {
      "text/plain": [
       "(50,)"
      ]
     },
     "execution_count": 46,
     "metadata": {},
     "output_type": "execute_result"
    }
   ],
   "source": [
    "embeddings['the'].shape"
   ]
  },
  {
   "cell_type": "code",
   "execution_count": 26,
   "metadata": {},
   "outputs": [],
   "source": [
    "def getOutputEmbeddings(X):\n",
    "    embedding_matrix_output = np.zeros((X.shape[0],10,50))\n",
    "    for ix in range(X.shape[0]):\n",
    "        X[ix] = X[ix].split()\n",
    "        for jx in range(len(X[ix])):\n",
    "            embedding_matrix_output[ix][jx] = embeddings[X[ix][jx].lower()]\n",
    "            \n",
    "    return embedding_matrix_output"
   ]
  },
  {
   "cell_type": "code",
   "execution_count": 27,
   "metadata": {},
   "outputs": [
    {
     "name": "stderr",
     "output_type": "stream",
     "text": [
      "c:\\users\\piyush\\appdata\\local\\programs\\python\\python36\\lib\\site-packages\\ipykernel_launcher.py:6: SettingWithCopyWarning: \n",
      "A value is trying to be set on a copy of a slice from a DataFrame\n",
      "\n",
      "See the caveats in the documentation: http://pandas.pydata.org/pandas-docs/stable/indexing.html#indexing-view-versus-copy\n",
      "  \n"
     ]
    }
   ],
   "source": [
    "\n",
    "emb_XT = getOutputEmbeddings(XT)\n",
    "emb_Xt = getOutputEmbeddings(Xt)\n"
   ]
  },
  {
   "cell_type": "code",
   "execution_count": 28,
   "metadata": {},
   "outputs": [
    {
     "name": "stdout",
     "output_type": "stream",
     "text": [
      "(132, 10, 50)\n",
      "(56, 10, 50)\n"
     ]
    }
   ],
   "source": [
    "print(emb_XT.shape)\n",
    "print(emb_Xt.shape)"
   ]
  },
  {
   "cell_type": "code",
   "execution_count": 30,
   "metadata": {},
   "outputs": [],
   "source": [
    "from tensorflow.keras.layers import *\n",
    "from tensorflow.keras.models import Sequential"
   ]
  },
  {
   "cell_type": "code",
   "execution_count": 31,
   "metadata": {},
   "outputs": [
    {
     "name": "stdout",
     "output_type": "stream",
     "text": [
      "Model: \"sequential\"\n",
      "_________________________________________________________________\n",
      "Layer (type)                 Output Shape              Param #   \n",
      "=================================================================\n",
      "lstm (LSTM)                  (None, 10, 64)            29440     \n",
      "_________________________________________________________________\n",
      "dropout (Dropout)            (None, 10, 64)            0         \n",
      "_________________________________________________________________\n",
      "lstm_1 (LSTM)                (None, 64)                33024     \n",
      "_________________________________________________________________\n",
      "dropout_1 (Dropout)          (None, 64)                0         \n",
      "_________________________________________________________________\n",
      "dense (Dense)                (None, 5)                 325       \n",
      "_________________________________________________________________\n",
      "activation (Activation)      (None, 5)                 0         \n",
      "=================================================================\n",
      "Total params: 62,789\n",
      "Trainable params: 62,789\n",
      "Non-trainable params: 0\n",
      "_________________________________________________________________\n"
     ]
    }
   ],
   "source": [
    "model = Sequential()\n",
    "model.add(LSTM(64,input_shape=(10,50),return_sequences=True))\n",
    "model.add(Dropout(0.4))\n",
    "model.add(LSTM(64,input_shape=(10,50)))\n",
    "model.add(Dropout(0.3))\n",
    "model.add(Dense(5))\n",
    "model.add(Activation('softmax'))\n",
    "model.summary()"
   ]
  },
  {
   "cell_type": "code",
   "execution_count": 33,
   "metadata": {},
   "outputs": [
    {
     "name": "stdout",
     "output_type": "stream",
     "text": [
      "Train on 118 samples, validate on 14 samples\n",
      "Epoch 1/40\n",
      "118/118 [==============================] - 6s 49ms/sample - loss: 1.5916 - acc: 0.2203 - val_loss: 1.6188 - val_acc: 0.1429\n",
      "Epoch 2/40\n",
      "118/118 [==============================] - 0s 507us/sample - loss: 1.5257 - acc: 0.2966 - val_loss: 1.6334 - val_acc: 0.2143\n",
      "Epoch 3/40\n",
      "118/118 [==============================] - 0s 473us/sample - loss: 1.4860 - acc: 0.2797 - val_loss: 1.6531 - val_acc: 0.2857\n",
      "Epoch 4/40\n",
      "118/118 [==============================] - 0s 456us/sample - loss: 1.4443 - acc: 0.3475 - val_loss: 1.6013 - val_acc: 0.2857\n",
      "Epoch 5/40\n",
      "118/118 [==============================] - 0s 456us/sample - loss: 1.4062 - acc: 0.3475 - val_loss: 1.5183 - val_acc: 0.4286\n",
      "Epoch 6/40\n",
      "118/118 [==============================] - 0s 499us/sample - loss: 1.3511 - acc: 0.4237 - val_loss: 1.4185 - val_acc: 0.5000\n",
      "Epoch 7/40\n",
      "118/118 [==============================] - 0s 507us/sample - loss: 1.2506 - acc: 0.5593 - val_loss: 1.3187 - val_acc: 0.5000\n",
      "Epoch 8/40\n",
      "118/118 [==============================] - 0s 465us/sample - loss: 1.1519 - acc: 0.6271 - val_loss: 1.2339 - val_acc: 0.5714\n",
      "Epoch 9/40\n",
      "118/118 [==============================] - 0s 473us/sample - loss: 1.0767 - acc: 0.5763 - val_loss: 1.2525 - val_acc: 0.4286\n",
      "Epoch 10/40\n",
      "118/118 [==============================] - 0s 482us/sample - loss: 0.9700 - acc: 0.7119 - val_loss: 1.1387 - val_acc: 0.5714\n",
      "Epoch 11/40\n",
      "118/118 [==============================] - 0s 549us/sample - loss: 0.8737 - acc: 0.7034 - val_loss: 1.0890 - val_acc: 0.5714\n",
      "Epoch 12/40\n",
      "118/118 [==============================] - 0s 532us/sample - loss: 0.7865 - acc: 0.7288 - val_loss: 1.0996 - val_acc: 0.5714\n",
      "Epoch 13/40\n",
      "118/118 [==============================] - 0s 499us/sample - loss: 0.6931 - acc: 0.7797 - val_loss: 1.1751 - val_acc: 0.5714\n",
      "Epoch 14/40\n",
      "118/118 [==============================] - 0s 482us/sample - loss: 0.6139 - acc: 0.7881 - val_loss: 1.0645 - val_acc: 0.5714\n",
      "Epoch 15/40\n",
      "118/118 [==============================] - 0s 507us/sample - loss: 0.5581 - acc: 0.8475 - val_loss: 0.9668 - val_acc: 0.6429\n",
      "Epoch 16/40\n",
      "118/118 [==============================] - 0s 482us/sample - loss: 0.4875 - acc: 0.8390 - val_loss: 1.0980 - val_acc: 0.6429\n",
      "Epoch 17/40\n",
      "118/118 [==============================] - 0s 516us/sample - loss: 0.4118 - acc: 0.8559 - val_loss: 0.9064 - val_acc: 0.7143\n",
      "Epoch 18/40\n",
      "118/118 [==============================] - 0s 575us/sample - loss: 0.3481 - acc: 0.8983 - val_loss: 0.8314 - val_acc: 0.7143\n",
      "Epoch 19/40\n",
      "118/118 [==============================] - 0s 549us/sample - loss: 0.3233 - acc: 0.8898 - val_loss: 0.8776 - val_acc: 0.6429\n",
      "Epoch 20/40\n",
      "118/118 [==============================] - 0s 541us/sample - loss: 0.3348 - acc: 0.8814 - val_loss: 1.1262 - val_acc: 0.6429\n",
      "Epoch 21/40\n",
      "118/118 [==============================] - 0s 507us/sample - loss: 0.2312 - acc: 0.9153 - val_loss: 0.8314 - val_acc: 0.6429\n",
      "Epoch 22/40\n",
      "118/118 [==============================] - 0s 541us/sample - loss: 0.2734 - acc: 0.8983 - val_loss: 1.0329 - val_acc: 0.6429\n",
      "Epoch 23/40\n",
      "118/118 [==============================] - 0s 558us/sample - loss: 0.2164 - acc: 0.9237 - val_loss: 0.9313 - val_acc: 0.6429\n",
      "Epoch 24/40\n",
      "118/118 [==============================] - 0s 524us/sample - loss: 0.1865 - acc: 0.9576 - val_loss: 1.3436 - val_acc: 0.5714\n",
      "Epoch 25/40\n",
      "118/118 [==============================] - 0s 524us/sample - loss: 0.1734 - acc: 0.9492 - val_loss: 0.8290 - val_acc: 0.7143\n",
      "Epoch 26/40\n",
      "118/118 [==============================] - 0s 794us/sample - loss: 0.1681 - acc: 0.9576 - val_loss: 0.9078 - val_acc: 0.7143\n",
      "Epoch 27/40\n",
      "118/118 [==============================] - 0s 473us/sample - loss: 0.1155 - acc: 0.9661 - val_loss: 1.4240 - val_acc: 0.5000\n",
      "Epoch 28/40\n",
      "118/118 [==============================] - 0s 473us/sample - loss: 0.2070 - acc: 0.9153 - val_loss: 1.1576 - val_acc: 0.6429\n",
      "Epoch 29/40\n",
      "118/118 [==============================] - 0s 440us/sample - loss: 0.2558 - acc: 0.8983 - val_loss: 0.7903 - val_acc: 0.7857\n",
      "Epoch 30/40\n",
      "118/118 [==============================] - 0s 507us/sample - loss: 0.1581 - acc: 0.9407 - val_loss: 0.9361 - val_acc: 0.6429\n",
      "Epoch 31/40\n",
      "118/118 [==============================] - 0s 524us/sample - loss: 0.1713 - acc: 0.9492 - val_loss: 1.9136 - val_acc: 0.5000\n",
      "Epoch 32/40\n",
      "118/118 [==============================] - 0s 507us/sample - loss: 0.1565 - acc: 0.9407 - val_loss: 1.0297 - val_acc: 0.7857\n",
      "Epoch 33/40\n",
      "118/118 [==============================] - 0s 507us/sample - loss: 0.2246 - acc: 0.9322 - val_loss: 0.8417 - val_acc: 0.7857\n",
      "Epoch 34/40\n",
      "118/118 [==============================] - 0s 456us/sample - loss: 0.0862 - acc: 0.9831 - val_loss: 1.0933 - val_acc: 0.5714\n",
      "Epoch 35/40\n",
      "118/118 [==============================] - 0s 439us/sample - loss: 0.1181 - acc: 0.9661 - val_loss: 1.0062 - val_acc: 0.5714\n",
      "Epoch 36/40\n",
      "118/118 [==============================] - 0s 473us/sample - loss: 0.1146 - acc: 0.9746 - val_loss: 1.3437 - val_acc: 0.5714\n",
      "Epoch 37/40\n",
      "118/118 [==============================] - 0s 549us/sample - loss: 0.1116 - acc: 0.9407 - val_loss: 1.0261 - val_acc: 0.7143\n",
      "Epoch 38/40\n",
      "118/118 [==============================] - 0s 600us/sample - loss: 0.0723 - acc: 0.9915 - val_loss: 0.7957 - val_acc: 0.7143\n",
      "Epoch 39/40\n",
      "118/118 [==============================] - 0s 566us/sample - loss: 0.0975 - acc: 0.9661 - val_loss: 1.2110 - val_acc: 0.6429\n",
      "Epoch 40/40\n",
      "118/118 [==============================] - 0s 499us/sample - loss: 0.0910 - acc: 0.9661 - val_loss: 1.0552 - val_acc: 0.7143\n"
     ]
    },
    {
     "data": {
      "text/plain": [
       "<tensorflow.python.keras.callbacks.History at 0x1e06e8a2b70>"
      ]
     },
     "execution_count": 33,
     "metadata": {},
     "output_type": "execute_result"
    }
   ],
   "source": [
    "\n",
    "model.compile(optimizer='adam',loss='categorical_crossentropy',metrics=['acc'])\n",
    "model.fit(emb_XT,YT,batch_size=32,epochs=40,shuffle=True,validation_split=0.1)"
   ]
  },
  {
   "cell_type": "code",
   "execution_count": 35,
   "metadata": {},
   "outputs": [
    {
     "name": "stdout",
     "output_type": "stream",
     "text": [
      "\r",
      "56/1 [================================================================================================================================================================================================================================================================================================================================================================================================================================================================================================================================================================================================================================================================================================================================================================================================================================================================================================================================================================================================================================================================================================================================================================================================================================================================================================================================================================================================================================================================================================================================================================================================================================================================================================================================================] - 0s 178us/sample - loss: 1.2200 - acc: 0.5714\n"
     ]
    },
    {
     "data": {
      "text/plain": [
       "[1.3987882477896554, 0.5714286]"
      ]
     },
     "execution_count": 35,
     "metadata": {},
     "output_type": "execute_result"
    }
   ],
   "source": [
    "\n",
    "model.evaluate(emb_Xt,Yt)"
   ]
  },
  {
   "cell_type": "code",
   "execution_count": 37,
   "metadata": {},
   "outputs": [],
   "source": [
    "pred = model.predict_classes(emb_Xt)"
   ]
  },
  {
   "cell_type": "code",
   "execution_count": 39,
   "metadata": {},
   "outputs": [
    {
     "data": {
      "text/plain": [
       "array([4, 3, 2, 0, 2, 2, 3, 2, 4, 2, 1, 2, 0, 3, 1, 3, 2, 2, 1, 2, 3, 0,\n",
       "       4, 0, 3, 3, 2, 0, 1, 2, 0, 1, 0, 2, 0, 1, 2, 3, 4, 2, 1, 0, 0, 1,\n",
       "       2, 2, 2, 2, 0, 1, 1, 0, 3, 2, 2, 0], dtype=int64)"
      ]
     },
     "execution_count": 39,
     "metadata": {},
     "output_type": "execute_result"
    }
   ],
   "source": [
    "pred"
   ]
  },
  {
   "cell_type": "code",
   "execution_count": 40,
   "metadata": {},
   "outputs": [
    {
     "name": "stdout",
     "output_type": "stream",
     "text": [
      "I want to eat\n",
      "🍴\n",
      "🍴\n",
      "he did not answer\n",
      "😓\n",
      "😓\n",
      "he got a raise\n",
      "😁\n",
      "😁\n",
      "she got me a present\n",
      "❤️\n",
      "❤️\n",
      "ha ha ha it was so funny\n",
      "😁\n",
      "😁\n",
      "he is a good friend\n",
      "❤️\n",
      "😁\n",
      "I am upset\n",
      "❤️\n",
      "😓\n",
      "We had such a lovely dinner tonight\n",
      "❤️\n",
      "😁\n",
      "where is the food\n",
      "🍴\n",
      "🍴\n",
      "Stop making this joke ha ha ha\n",
      "😁\n",
      "😁\n",
      "where is the ball\n",
      "⚾\n",
      "⚾\n",
      "work is hard\n",
      "😓\n",
      "😁\n",
      "This girl is messing with me\n",
      "😓\n",
      "❤️\n",
      "are you serious ha ha\n",
      "😁\n",
      "😓\n",
      "Let us go play baseball\n",
      "⚾\n",
      "⚾\n",
      "This stupid grader is not working\n",
      "😓\n",
      "😓\n",
      "work is horrible\n",
      "😓\n",
      "😁\n",
      "Congratulation for having a baby\n",
      "😁\n",
      "😁\n",
      "stop messing around\n",
      "😓\n",
      "⚾\n",
      "any suggestions for dinner\n",
      "🍴\n",
      "😁\n",
      "I love taking breaks\n",
      "❤️\n",
      "😓\n",
      "you brighten my day\n",
      "😁\n",
      "❤️\n",
      "I boiled rice\n",
      "🍴\n",
      "🍴\n",
      "she is a bully\n",
      "😓\n",
      "❤️\n",
      "Why are you feeling bad\n",
      "😓\n",
      "😓\n",
      "I am upset\n",
      "😓\n",
      "😓\n",
      "I worked during my birthday\n",
      "😓\n",
      "😁\n",
      "My grandmother is the love of my life\n",
      "❤️\n",
      "❤️\n",
      "enjoy your break\n",
      "😁\n",
      "⚾\n",
      "valentine day is near\n",
      "❤️\n",
      "😁\n"
     ]
    }
   ],
   "source": [
    "for i in range(30):\n",
    "    print(' '.join(Xt[i]))\n",
    "    print(emoji.emojize(emoji_dictionary[str(np.argmax(Yt[i]))]))\n",
    "    print(emoji.emojize(emoji_dictionary[str(pred[i])]))"
   ]
  }
 ],
 "metadata": {
  "kernelspec": {
   "display_name": "Python 3",
   "language": "python",
   "name": "python3"
  },
  "language_info": {
   "codemirror_mode": {
    "name": "ipython",
    "version": 3
   },
   "file_extension": ".py",
   "mimetype": "text/x-python",
   "name": "python",
   "nbconvert_exporter": "python",
   "pygments_lexer": "ipython3",
   "version": "3.6.6"
  }
 },
 "nbformat": 4,
 "nbformat_minor": 2
}
